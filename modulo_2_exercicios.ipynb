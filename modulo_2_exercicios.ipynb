{
 "cells": [
  {
   "cell_type": "markdown",
   "metadata": {
    "id": "KJqp9AANOCtf"
   },
   "source": [
    "<img src=\"https://raw.githubusercontent.com/andre-marcos-perez/ebac-course-utils/main/media/logo/newebac_logo_black_half.png\" alt=\"ebac-logo\">\n",
    "\n",
    "---\n",
    "\n",
    "# **Módulo 02** | Python: Estruturas de Dados\n",
    "Caderno de **Exercícios**<br> \n",
    "Professor [André Perez](https://www.linkedin.com/in/andremarcosperez/)\n",
    "\n",
    "---"
   ]
  },
  {
   "cell_type": "markdown",
   "metadata": {
    "id": "d9jDtUbDOE1-"
   },
   "source": [
    "# **Tópicos**\n",
    "\n",
    "<ol type=\"1\">\n",
    "  <li>Listas;</li>\n",
    "  <li>Conjuntos;</li>\n",
    "  <li>Dicionários.</li>\n",
    "</ol>"
   ]
  },
  {
   "cell_type": "markdown",
   "metadata": {
    "id": "SmoHgt-lwkpD"
   },
   "source": [
    "---"
   ]
  },
  {
   "cell_type": "markdown",
   "metadata": {
    "id": "GABI6OW8OfQ2"
   },
   "source": [
    "# **Exercícios**"
   ]
  },
  {
   "cell_type": "markdown",
   "metadata": {
    "id": "muD1vxozykSC"
   },
   "source": [
    "## 1\\. Listas"
   ]
  },
  {
   "cell_type": "markdown",
   "metadata": {
    "id": "ahrFfCuBxJKs"
   },
   "source": [
    "Criei uma lista chamada `filmes` com o nome dos 10 primeiros filmes mais bem avaliados no site no [IMDB](https://www.imdb.com/chart/top/). Imprima o resultado."
   ]
  },
  {
   "cell_type": "code",
   "execution_count": 1,
   "metadata": {
    "colab": {
     "base_uri": "https://localhost:8080/"
    },
    "executionInfo": {
     "elapsed": 269,
     "status": "ok",
     "timestamp": 1641913064771,
     "user": {
      "displayName": "Philippe Apolinário",
      "photoUrl": "https://lh3.googleusercontent.com/a-/AOh14GiSuM7t83CojMDcf0N7oPNIPHBi8ka0swKPyNMscDA=s64",
      "userId": "15382100724173987816"
     },
     "user_tz": 180
    },
    "id": "OgL6Hv3bzOHI",
    "outputId": "267aa7a9-410a-4672-f9c0-105fb957f2d1"
   },
   "outputs": [
    {
     "name": "stdout",
     "output_type": "stream",
     "text": [
      "['1 - Um Sonho de Liberdade', '2 - O Poderoso Chefão', '3 - O Podereso Chefão II', '4 - Batman: O Cavaleiro das Trevas', '5 - 12 Homens e uma sentença', '6 - A Lista de Schindler', '7 - O Senhor dos Anéis: O Retorno do Rei', '8 - Pulp Fiction: Tempo de Violência', '9 - Três Homens em Conflitos', '10 - O Senhor dos Anéis: A Sociedade do Anel']\n",
      "<class 'list'>\n"
     ]
    }
   ],
   "source": [
    "filmes = [\"1 - Um Sonho de Liberdade\", \"2 - O Poderoso Chefão\", \"3 - O Podereso Chefão II\", \"4 - Batman: O Cavaleiro das Trevas\", \"5 - 12 Homens e uma sentença\", \"6 - A Lista de Schindler\", \"7 - O Senhor dos Anéis: O Retorno do Rei\", \"8 - Pulp Fiction: Tempo de Violência\", \"9 - Três Homens em Conflitos\", \"10 - O Senhor dos Anéis: A Sociedade do Anel\"]\n",
    "print(filmes)\n",
    "print(type(filmes))"
   ]
  },
  {
   "cell_type": "markdown",
   "metadata": {
    "id": "KI9zQRT2xa7m"
   },
   "source": [
    "Simule a movimentação do *ranking*. Utilize os métodos `insert` e `pop` para trocar a posição do primeiro e do segundo filme da lista. Imprima o resultado.\n",
    "\n"
   ]
  },
  {
   "cell_type": "code",
   "execution_count": 2,
   "metadata": {
    "colab": {
     "base_uri": "https://localhost:8080/"
    },
    "executionInfo": {
     "elapsed": 429,
     "status": "ok",
     "timestamp": 1641913070117,
     "user": {
      "displayName": "Philippe Apolinário",
      "photoUrl": "https://lh3.googleusercontent.com/a-/AOh14GiSuM7t83CojMDcf0N7oPNIPHBi8ka0swKPyNMscDA=s64",
      "userId": "15382100724173987816"
     },
     "user_tz": 180
    },
    "id": "zX3mA3_GzrXH",
    "outputId": "912815b1-672b-484f-b37f-863ace6ed822"
   },
   "outputs": [
    {
     "name": "stdout",
     "output_type": "stream",
     "text": [
      "['2 - O Poderoso Chefão', '3 - O Podereso Chefão II', '4 - Batman: O Cavaleiro das Trevas', '5 - 12 Homens e uma sentença', '6 - A Lista de Schindler', '7 - O Senhor dos Anéis: O Retorno do Rei', '8 - Pulp Fiction: Tempo de Violência', '9 - Três Homens em Conflitos', '10 - O Senhor dos Anéis: A Sociedade do Anel']\n",
      "['3 - O Podereso Chefão II', '4 - Batman: O Cavaleiro das Trevas', '5 - 12 Homens e uma sentença', '6 - A Lista de Schindler', '7 - O Senhor dos Anéis: O Retorno do Rei', '8 - Pulp Fiction: Tempo de Violência', '9 - Três Homens em Conflitos', '10 - O Senhor dos Anéis: A Sociedade do Anel']\n",
      "['1 - O Poderesos Chefão', '3 - O Podereso Chefão II', '4 - Batman: O Cavaleiro das Trevas', '5 - 12 Homens e uma sentença', '6 - A Lista de Schindler', '7 - O Senhor dos Anéis: O Retorno do Rei', '8 - Pulp Fiction: Tempo de Violência', '9 - Três Homens em Conflitos', '10 - O Senhor dos Anéis: A Sociedade do Anel']\n",
      "['1 - O Poderesos Chefão', '2 - Um Sonho de Liberdade', '3 - O Podereso Chefão II', '4 - Batman: O Cavaleiro das Trevas', '5 - 12 Homens e uma sentença', '6 - A Lista de Schindler', '7 - O Senhor dos Anéis: O Retorno do Rei', '8 - Pulp Fiction: Tempo de Violência', '9 - Três Homens em Conflitos', '10 - O Senhor dos Anéis: A Sociedade do Anel']\n"
     ]
    }
   ],
   "source": [
    "filmes.pop(0)\n",
    "print(filmes)\n",
    "\n",
    "filmes.pop(0)\n",
    "print(filmes)\n",
    "\n",
    "filmes.insert(0,\"1 - O Poderesos Chefão\")\n",
    "print(filmes)\n",
    "\n",
    "filmes.insert(1,\"2 - Um Sonho de Liberdade\")\n",
    "print(filmes)\n",
    "\n",
    "\n"
   ]
  },
  {
   "cell_type": "markdown",
   "metadata": {
    "id": "zMN1Q3jdwoJm"
   },
   "source": [
    "---"
   ]
  },
  {
   "cell_type": "markdown",
   "metadata": {
    "id": "lxa5L6uF0ZJE"
   },
   "source": [
    "## 2\\. Conjuntos"
   ]
  },
  {
   "cell_type": "markdown",
   "metadata": {
    "id": "9JahS2Kj0d5u"
   },
   "source": [
    "Aconteceu um erro no seu *ranking*. Simule a duplicação dos três últimos filmes da lista. Imprima o resultado."
   ]
  },
  {
   "cell_type": "code",
   "execution_count": 3,
   "metadata": {
    "colab": {
     "base_uri": "https://localhost:8080/"
    },
    "executionInfo": {
     "elapsed": 262,
     "status": "ok",
     "timestamp": 1641913075388,
     "user": {
      "displayName": "Philippe Apolinário",
      "photoUrl": "https://lh3.googleusercontent.com/a-/AOh14GiSuM7t83CojMDcf0N7oPNIPHBi8ka0swKPyNMscDA=s64",
      "userId": "15382100724173987816"
     },
     "user_tz": 180
    },
    "id": "BnjnLBNC6PGe",
    "outputId": "64fd2607-4c94-43b7-dad4-a7254bc90cb3"
   },
   "outputs": [
    {
     "name": "stdout",
     "output_type": "stream",
     "text": [
      "['1 - O Poderesos Chefão', '2 - Um Sonho de Liberdade', '3 - O Podereso Chefão II', '4 - Batman: O Cavaleiro das Trevas', '5 - 12 Homens e uma sentença', '6 - A Lista de Schindler', '7 - O Senhor dos Anéis: O Retorno do Rei', '8 - Pulp Fiction: Tempo de Violência', '8 - Pulp Fiction: Tempo de Violência', '9 - Três Homens em Conflitos', '10 - O Senhor dos Anéis: A Sociedade do Anel']\n",
      "['1 - O Poderesos Chefão', '2 - Um Sonho de Liberdade', '3 - O Podereso Chefão II', '4 - Batman: O Cavaleiro das Trevas', '5 - 12 Homens e uma sentença', '6 - A Lista de Schindler', '7 - O Senhor dos Anéis: O Retorno do Rei', '8 - Pulp Fiction: Tempo de Violência', '8 - Pulp Fiction: Tempo de Violência', '9 - Três Homens em Conflitos', '9 - Três Homens em Conflitos', '10 - O Senhor dos Anéis: A Sociedade do Anel']\n",
      "['1 - O Poderesos Chefão', '2 - Um Sonho de Liberdade', '3 - O Podereso Chefão II', '4 - Batman: O Cavaleiro das Trevas', '5 - 12 Homens e uma sentença', '6 - A Lista de Schindler', '7 - O Senhor dos Anéis: O Retorno do Rei', '8 - Pulp Fiction: Tempo de Violência', '8 - Pulp Fiction: Tempo de Violência', '9 - Três Homens em Conflitos', '9 - Três Homens em Conflitos', '10 - O Senhor dos Anéis: A Sociedade do Anel', '10 - O Senhor dos Anéis: A Sociedade do Anel']\n"
     ]
    }
   ],
   "source": [
    "filmes.insert(7,\"8 - Pulp Fiction: Tempo de Violência\")\n",
    "print(filmes)\n",
    "\n",
    "filmes.insert(9,\"9 - Três Homens em Conflitos\")\n",
    "print(filmes)\n",
    "\n",
    "filmes.insert(11,\"10 - O Senhor dos Anéis: A Sociedade do Anel\")\n",
    "print(filmes)"
   ]
  },
  {
   "cell_type": "markdown",
   "metadata": {
    "id": "suxTfCJB6ZiX"
   },
   "source": [
    "Utiliza a conversão `set` e `list` para remover os valores duplicados. Imprima o resultado. "
   ]
  },
  {
   "cell_type": "code",
   "execution_count": 4,
   "metadata": {
    "colab": {
     "base_uri": "https://localhost:8080/"
    },
    "executionInfo": {
     "elapsed": 286,
     "status": "ok",
     "timestamp": 1641913098638,
     "user": {
      "displayName": "Philippe Apolinário",
      "photoUrl": "https://lh3.googleusercontent.com/a-/AOh14GiSuM7t83CojMDcf0N7oPNIPHBi8ka0swKPyNMscDA=s64",
      "userId": "15382100724173987816"
     },
     "user_tz": 180
    },
    "id": "ZvUGN-0n6joM",
    "outputId": "066cf68a-43c4-4a4f-8369-db40a294460e"
   },
   "outputs": [
    {
     "name": "stdout",
     "output_type": "stream",
     "text": [
      "['1 - O Poderesos Chefão', '5 - 12 Homens e uma sentença', '2 - Um Sonho de Liberdade', '10 - O Senhor dos Anéis: A Sociedade do Anel', '3 - O Podereso Chefão II', '6 - A Lista de Schindler', '9 - Três Homens em Conflitos', '4 - Batman: O Cavaleiro das Trevas', '8 - Pulp Fiction: Tempo de Violência', '7 - O Senhor dos Anéis: O Retorno do Rei']\n",
      "<class 'list'>\n",
      "10\n"
     ]
    }
   ],
   "source": [
    "filmes=(list(set(filmes)))\n",
    "print(filmes)\n",
    "print(type(filmes))\n",
    "print(len(filmes))"
   ]
  },
  {
   "cell_type": "markdown",
   "metadata": {
    "id": "ShkK35eQ6pAM"
   },
   "source": [
    "---"
   ]
  },
  {
   "cell_type": "markdown",
   "metadata": {
    "id": "EL_FzmxL6rTv"
   },
   "source": [
    "## 3\\. Dicionários"
   ]
  },
  {
   "cell_type": "markdown",
   "metadata": {
    "id": "i8l0gFqRCpfT"
   },
   "source": [
    "Repita os exercícios da parte 1 (listas). Os elementos da lista `filmes` devem ser dicionários no seguinte formato: `{'nome': <nome-do-filme>, 'ano': <ano do filme>}, 'sinopse': <sinopse do filme>}`. "
   ]
  },
  {
   "cell_type": "code",
   "execution_count": 5,
   "metadata": {
    "colab": {
     "base_uri": "https://localhost:8080/"
    },
    "executionInfo": {
     "elapsed": 281,
     "status": "ok",
     "timestamp": 1641929254152,
     "user": {
      "displayName": "Philippe Apolinário",
      "photoUrl": "https://lh3.googleusercontent.com/a-/AOh14GiSuM7t83CojMDcf0N7oPNIPHBi8ka0swKPyNMscDA=s64",
      "userId": "15382100724173987816"
     },
     "user_tz": 180
    },
    "id": "dmcJqVrl_QEl",
    "outputId": "2e82c6aa-488a-4c00-8551-8919ca6b5e57"
   },
   "outputs": [
    {
     "name": "stdout",
     "output_type": "stream",
     "text": [
      "({'nome': 'Um Sonho de liberdade', 'ano': 1994, 'sinopse': 'Dois homens presos se reúnem ao longo de vários anos, encontrando consolo e eventual redenção através de atos de decência comum.'}, {'nome': 'O Poderoso Chefão', 'ano': 1972, 'sinopse': 'O patriarca idoso de uma pessoa responsável pelo crime organizado transfere o controle clandestino para seu filho reluta.'}, {'nome': 'O Poderoso Chefão II', 'ano': 1974, 'sinopse': 'Em 1950, Michael Corleone, agora à frente da família, tenta expandir o negócio do crime para Las Vegas, Los Angeles e Cuba. Paralelamente, é revelado a história de Vito Corleone, e de como saiu da Sicília e chegou a Nova.'}, {'nome': 'Batman: O Cavaleiro das Trevas', 'ano': 2008, 'sinopse': 'Quando uma ameaça conhecida como O Coringa surge de seu passado, causa estragos e caos nas pessoas de Gotham. O Cavaleiro das Trevas deve aceitar um dos maiores testes para combater a injustiça.'}, {'nome': '12 Homens e uma Sentença', 'ano': 1957, 'sinopse': 'Um jurado que se aposenta tenta evitar um erro judicial forçando seus colegas a reconsiderarem as evidências.'}, {'nome': 'A Lista de Schindler', 'ano': 1993, 'sinopse': 'Depois de testemunhar a perseguição dos judeus na Polônia ocupado pelos alemães durante a Segunda Guerra Mundial, o industrial Oskar Schindler começa a se preocupar com sua força de trabalho judaica.'}, {'nome': 'O Senhor dos Anéis: O Retorno do Rei', 'ano': 2003, 'sinopse': 'Gandalf e Aragorn lideram o Mundo dos Homens contra o exército de Sauron para desviar o olhar de Frodo e Sam quando eles se aproximam á Montanha da Perdição com o Um Anel.'}, {'nome': 'Pulp Fiction: Tempo de Violência', 'ano': 1994, 'sinopse': 'As vidas de dois assassinos da máfia, um boxeador, um gângster e sua esposa, e um par de bandidos se entrelaçam em quatro histórias de violência e redenção.'}, {'nome': 'Três Homens em Conflito', 'ano': 1966, 'sinopse': 'Um impostor se junta com dois homens para encontrar fortuna num remoto cemitério.'}, {'nome': 'O Senhor dos Anéis: A Sociedade do Anel', 'ano': 2001, 'sinopse': 'Um manso hobbit do Condado e oito companheiros partem em uma jornada para destruir o poderoso Um Anel e salvar a Terra-média das Trevas.'})\n"
     ]
    }
   ],
   "source": [
    "lista_filmes = {\n",
    "    \"nome\" : \"Um Sonho de liberdade\",\n",
    "    \"ano\" : 1994,\n",
    "    \"sinopse\" : \"Dois homens presos se reúnem ao longo de vários anos, encontrando consolo e eventual redenção através de atos de decência comum.\"\n",
    "},{\n",
    "    \"nome\" : \"O Poderoso Chefão\",\n",
    "   \"ano\" : 1972,\n",
    "   \"sinopse\" : \"O patriarca idoso de uma pessoa responsável pelo crime organizado transfere o controle clandestino para seu filho reluta.\"\n",
    "},{\n",
    "    \"nome\" : \"O Poderoso Chefão II\",\n",
    "   \"ano\" : 1974,\n",
    "   \"sinopse\" : \"Em 1950, Michael Corleone, agora à frente da família, tenta expandir o negócio do crime para Las Vegas, Los Angeles e Cuba. Paralelamente, é revelado a história de Vito Corleone, e de como saiu da Sicília e chegou a Nova.\"\n",
    "},{\n",
    "    \"nome\" : \"Batman: O Cavaleiro das Trevas\",\n",
    "   \"ano\" : 2008,\n",
    "   \"sinopse\" : \"Quando uma ameaça conhecida como O Coringa surge de seu passado, causa estragos e caos nas pessoas de Gotham. O Cavaleiro das Trevas deve aceitar um dos maiores testes para combater a injustiça.\"\n",
    "},{\n",
    "    \"nome\" : \"12 Homens e uma Sentença\",\n",
    "   \"ano\" : 1957,\n",
    "   \"sinopse\" : \"Um jurado que se aposenta tenta evitar um erro judicial forçando seus colegas a reconsiderarem as evidências.\"\n",
    "},{\n",
    "    \"nome\" : \"A Lista de Schindler\",\n",
    "   \"ano\" : 1993,\n",
    "   \"sinopse\" : \"Depois de testemunhar a perseguição dos judeus na Polônia ocupado pelos alemães durante a Segunda Guerra Mundial, o industrial Oskar Schindler começa a se preocupar com sua força de trabalho judaica.\"\n",
    "},{\n",
    "    \"nome\" : \"O Senhor dos Anéis: O Retorno do Rei\",\n",
    "   \"ano\" : 2003,\n",
    "   \"sinopse\" : \"Gandalf e Aragorn lideram o Mundo dos Homens contra o exército de Sauron para desviar o olhar de Frodo e Sam quando eles se aproximam á Montanha da Perdição com o Um Anel.\"\n",
    "},{\n",
    "    \"nome\" : \"Pulp Fiction: Tempo de Violência\",\n",
    "   \"ano\" : 1994,\n",
    "   \"sinopse\" : \"As vidas de dois assassinos da máfia, um boxeador, um gângster e sua esposa, e um par de bandidos se entrelaçam em quatro histórias de violência e redenção.\"\n",
    "},{\n",
    "    \"nome\" :  \"Três Homens em Conflito\",\n",
    "   \"ano\" : 1966,\n",
    "   \"sinopse\" : \"Um impostor se junta com dois homens para encontrar fortuna num remoto cemitério.\"\n",
    "}, {\n",
    "    \"nome\" : \"O Senhor dos Anéis: A Sociedade do Anel\",\n",
    "    \"ano\" : 2001,\n",
    "    \"sinopse\" : \"Um manso hobbit do Condado e oito companheiros partem em uma jornada para destruir o poderoso Um Anel e salvar a Terra-média das Trevas.\"\n",
    "}\n",
    "\n",
    "print(lista_filmes)\n"
   ]
  }
 ],
 "metadata": {
  "colab": {
   "collapsed_sections": [],
   "name": "modulo_2_exercicios.ipynb",
   "provenance": []
  },
  "kernelspec": {
   "display_name": "Python 3 (ipykernel)",
   "language": "python",
   "name": "python3"
  },
  "language_info": {
   "codemirror_mode": {
    "name": "ipython",
    "version": 3
   },
   "file_extension": ".py",
   "mimetype": "text/x-python",
   "name": "python",
   "nbconvert_exporter": "python",
   "pygments_lexer": "ipython3",
   "version": "3.9.12"
  }
 },
 "nbformat": 4,
 "nbformat_minor": 1
}

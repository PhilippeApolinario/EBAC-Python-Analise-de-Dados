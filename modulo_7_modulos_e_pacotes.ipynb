{
  "cells": [
    {
      "cell_type": "markdown",
      "metadata": {
        "id": "KJqp9AANOCtf"
      },
      "source": [
        "<img src=\"https://raw.githubusercontent.com/andre-marcos-perez/ebac-course-utils/main/media/logo/newebac_logo_black_half.png\" alt=\"ebac-logo\">\n",
        "\n",
        "---\n",
        "\n",
        "# **Módulo** | Python: Módulos & Pacotes\n",
        "Caderno de **Aula**<br> \n",
        "Professor [André Perez](https://www.linkedin.com/in/andremarcosperez/)\n",
        "\n",
        "---"
      ]
    },
    {
      "cell_type": "markdown",
      "metadata": {
        "id": "d9jDtUbDOE1-"
      },
      "source": [
        "# **Tópicos**\n",
        "\n",
        "<ol type=\"1\">\n",
        "  <li>from / import / as;</li>\n",
        "  <li>Módulo;</li>\n",
        "  <li>Pacote;</li>\n",
        "  <li>Baixando pacotes.</li>\n",
        "</ol>"
      ]
    },
    {
      "cell_type": "markdown",
      "metadata": {
        "id": "SmoHgt-lwkpD"
      },
      "source": [
        "---"
      ]
    },
    {
      "cell_type": "markdown",
      "metadata": {
        "id": "GABI6OW8OfQ2"
      },
      "source": [
        "# **Aulas**"
      ]
    },
    {
      "cell_type": "markdown",
      "metadata": {
        "id": "muD1vxozykSC"
      },
      "source": [
        "## 1\\. from / import / as"
      ]
    },
    {
      "cell_type": "markdown",
      "metadata": {
        "id": "otv_qcsJmWkr"
      },
      "source": [
        "Os módulos nativos do Python podem ser encontrados neste [link](https://docs.python.org/3/py-modindex.html)."
      ]
    },
    {
      "cell_type": "markdown",
      "metadata": {
        "id": "5a3_syBIP6yO"
      },
      "source": [
        "### **1.1. import** "
      ]
    },
    {
      "cell_type": "markdown",
      "metadata": {
        "id": "NglCEvJDmqkw"
      },
      "source": [
        "**Exemplo:** `random`"
      ]
    },
    {
      "cell_type": "code",
      "execution_count": null,
      "metadata": {
        "id": "s3TYcbzAlgxe"
      },
      "outputs": [],
      "source": [
        "import random"
      ]
    },
    {
      "cell_type": "code",
      "execution_count": null,
      "metadata": {
        "id": "Bqz8RRXwljEe",
        "colab": {
          "base_uri": "https://localhost:8080/"
        },
        "outputId": "c969ca9e-bd47-40bd-9cf2-6cd94a9214a0"
      },
      "outputs": [
        {
          "output_type": "stream",
          "name": "stdout",
          "text": [
            "3\n"
          ]
        }
      ],
      "source": [
        "escolha = random.choice([1, 2, 3])\n",
        "print(escolha)"
      ]
    },
    {
      "cell_type": "code",
      "execution_count": null,
      "metadata": {
        "id": "FGXZX082mp5C",
        "colab": {
          "base_uri": "https://localhost:8080/"
        },
        "outputId": "eee4bb11-cf46-48b8-a304-d98ec7f8781c"
      },
      "outputs": [
        {
          "output_type": "stream",
          "name": "stdout",
          "text": [
            "0.9279116264066105\n"
          ]
        }
      ],
      "source": [
        "numero_aleatorio = random.random() # entre [0,1)\n",
        "print(numero_aleatorio)"
      ]
    },
    {
      "cell_type": "markdown",
      "metadata": {
        "id": "w44EAxw7nCA4"
      },
      "source": [
        "**Exemplo:** `math`"
      ]
    },
    {
      "cell_type": "code",
      "execution_count": null,
      "metadata": {
        "id": "qEW9nFDmnE7w"
      },
      "outputs": [],
      "source": [
        "import math"
      ]
    },
    {
      "cell_type": "code",
      "execution_count": null,
      "metadata": {
        "id": "LD1YND2WnF4-",
        "colab": {
          "base_uri": "https://localhost:8080/"
        },
        "outputId": "2267e8ce-d6b9-4a16-fe02-f482b29a491c"
      },
      "outputs": [
        {
          "output_type": "stream",
          "name": "stdout",
          "text": [
            "10000000000.0\n"
          ]
        }
      ],
      "source": [
        "potencia = math.pow(10, 10)\n",
        "print(potencia)"
      ]
    },
    {
      "cell_type": "code",
      "execution_count": null,
      "metadata": {
        "id": "FobSlEhinWIR",
        "colab": {
          "base_uri": "https://localhost:8080/"
        },
        "outputId": "296f0975-6ea2-42e0-e438-458841cbaed3"
      },
      "outputs": [
        {
          "output_type": "stream",
          "name": "stdout",
          "text": [
            "11\n"
          ]
        }
      ],
      "source": [
        "num = math.ceil(10.1)\n",
        "print(num)"
      ]
    },
    {
      "cell_type": "code",
      "execution_count": null,
      "metadata": {
        "id": "WExZa8nMCxMl",
        "colab": {
          "base_uri": "https://localhost:8080/"
        },
        "outputId": "5f794db2-f457-4c0c-b332-ae2266dd3de2"
      },
      "outputs": [
        {
          "output_type": "stream",
          "name": "stdout",
          "text": [
            "3.141592653589793\n"
          ]
        }
      ],
      "source": [
        "print(math.pi)"
      ]
    },
    {
      "cell_type": "markdown",
      "metadata": {
        "id": "E6D5rjlESJ1A"
      },
      "source": [
        "### **1.2. from, import** "
      ]
    },
    {
      "cell_type": "markdown",
      "metadata": {
        "id": "bO66G3v8qMBu"
      },
      "source": [
        "**Exemplo:** `time`"
      ]
    },
    {
      "cell_type": "code",
      "execution_count": null,
      "metadata": {
        "id": "C6V_G3BonpW7"
      },
      "outputs": [],
      "source": [
        "from time import time"
      ]
    },
    {
      "cell_type": "code",
      "execution_count": null,
      "metadata": {
        "id": "NtnIopHFns4L",
        "colab": {
          "base_uri": "https://localhost:8080/"
        },
        "outputId": "90ce73a9-e707-439d-8616-7e940762f262"
      },
      "outputs": [
        {
          "output_type": "stream",
          "name": "stdout",
          "text": [
            "1673886650.9610593\n"
          ]
        }
      ],
      "source": [
        "print(time())"
      ]
    },
    {
      "cell_type": "code",
      "execution_count": null,
      "metadata": {
        "id": "JQzDzUysoXkp"
      },
      "outputs": [],
      "source": [
        "from time import time, sleep\n"
      ]
    },
    {
      "cell_type": "code",
      "execution_count": null,
      "metadata": {
        "id": "d4HJTqKOode6"
      },
      "outputs": [],
      "source": [
        "sleep(5)"
      ]
    },
    {
      "cell_type": "markdown",
      "metadata": {
        "id": "wNkFG1qKSU9M"
      },
      "source": [
        "### **1.3. from, import, as** "
      ]
    },
    {
      "cell_type": "markdown",
      "metadata": {
        "id": "KT8LkkzYqO1N"
      },
      "source": [
        "**Exemplo:** `datetime`"
      ]
    },
    {
      "cell_type": "code",
      "execution_count": null,
      "metadata": {
        "id": "X-FHA80Rqdv0"
      },
      "outputs": [],
      "source": [
        "from datetime import datetime as dt"
      ]
    },
    {
      "cell_type": "code",
      "execution_count": null,
      "metadata": {
        "id": "rXaUuslnqlLX",
        "colab": {
          "base_uri": "https://localhost:8080/"
        },
        "outputId": "8fd28553-7533-4152-b15e-4d78880ea68f"
      },
      "outputs": [
        {
          "output_type": "stream",
          "name": "stdout",
          "text": [
            "2023-01-16 16:30:56.061606\n"
          ]
        }
      ],
      "source": [
        "print(dt.now())"
      ]
    },
    {
      "cell_type": "code",
      "execution_count": null,
      "metadata": {
        "id": "Tbrk8CJkq05Z",
        "colab": {
          "base_uri": "https://localhost:8080/"
        },
        "outputId": "676bcebb-c4f9-4ea6-9b9c-8561195edb41"
      },
      "outputs": [
        {
          "output_type": "stream",
          "name": "stdout",
          "text": [
            "16\n"
          ]
        }
      ],
      "source": [
        "print(dt.now().day)"
      ]
    },
    {
      "cell_type": "code",
      "execution_count": null,
      "metadata": {
        "id": "JJO0KMONrAX9",
        "colab": {
          "base_uri": "https://localhost:8080/"
        },
        "outputId": "22e574b8-5f88-4f0a-9baa-b88a4727160e"
      },
      "outputs": [
        {
          "output_type": "stream",
          "name": "stdout",
          "text": [
            "2023\n"
          ]
        }
      ],
      "source": [
        "print(dt.now().year)"
      ]
    },
    {
      "cell_type": "markdown",
      "metadata": {
        "id": "4rRCvy_UURrM"
      },
      "source": [
        "## 2\\. Módulos"
      ]
    },
    {
      "cell_type": "markdown",
      "metadata": {
        "id": "Y1W9Hv8fURrZ"
      },
      "source": [
        "### **2.1. Motivação** "
      ]
    },
    {
      "cell_type": "markdown",
      "metadata": {
        "id": "7jdFzax1doaQ"
      },
      "source": [
        " - Classe Arquivo CSV"
      ]
    },
    {
      "cell_type": "code",
      "execution_count": null,
      "metadata": {
        "id": "Ot1p6JXgdkmZ"
      },
      "outputs": [],
      "source": [
        "class ArquivoCSV(object):\n",
        "\n",
        "  def __init__(self, arquivo: str):\n",
        "    self.arquivo = arquivo\n",
        "    self.conteudo = self._extrair_conteudo()\n",
        "    self.colunas = self._extrair_nome_colunas()\n",
        "\n",
        "  def _extrair_conteudo(self):\n",
        "    conteudo = None\n",
        "    with open(file=self.arquivo, mode='r', encoding='utf8') as arquivo:\n",
        "      conteudo = arquivo.readlines()\n",
        "    return conteudo\n",
        "\n",
        "  def _extrair_nome_colunas(self):\n",
        "    return self.conteudo[0].strip().split(sep=',')\n",
        "\n",
        "  def extrair_coluna(self, indice_coluna: str):\n",
        "    coluna = list()\n",
        "    for linha in self.conteudo:\n",
        "      conteudo_linha = linha.strip().split(sep=',')\n",
        "      coluna.append(conteudo_linha[indice_coluna])\n",
        "    coluna.pop(0)\n",
        "    return coluna"
      ]
    },
    {
      "cell_type": "markdown",
      "metadata": {
        "id": "YEOtCmOzd-4X"
      },
      "source": [
        " - Arquivo banco.csv"
      ]
    },
    {
      "cell_type": "code",
      "execution_count": null,
      "metadata": {
        "id": "Bjfreo_ndzMZ",
        "colab": {
          "base_uri": "https://localhost:8080/"
        },
        "outputId": "cf5dfb4b-d10a-4cde-d9db-adc2743e03ce"
      },
      "outputs": [
        {
          "output_type": "stream",
          "name": "stdout",
          "text": [
            "Writing banco.csv\n"
          ]
        }
      ],
      "source": [
        "%%writefile banco.csv\n",
        "age,job,marital,education,default,balance,housing,loan\n",
        "30,unemployed,married,primary,no,1787,no,no\n",
        "33,services,married,secondary,no,4789,yes,yes\n",
        "35,management,single,tertiary,no,1350,yes,no\n",
        "30,management,married,tertiary,no,1476,yes,yes\n",
        "59,blue-collar,married,secondary,no,0,yes,no\n",
        "35,management,single,tertiary,no,747,no,no\n",
        "36,self-employed,married,tertiary,no,307,yes,no\n",
        "39,technician,married,secondary,no,147,yes,no\n",
        "41,entrepreneur,married,tertiary,no,221,yes,no\n",
        "43,services,married,primary,no,-88,yes,yes"
      ]
    },
    {
      "cell_type": "code",
      "execution_count": null,
      "metadata": {
        "id": "cgWzJ8qKd3Aq"
      },
      "outputs": [],
      "source": [
        "arquivo_banco = ArquivoCSV(arquivo='./banco.csv')"
      ]
    },
    {
      "cell_type": "markdown",
      "metadata": {
        "id": "ky-E74-xWDL9"
      },
      "source": [
        " - Extraindo a coluna de `education`\n",
        "\n"
      ]
    },
    {
      "cell_type": "code",
      "execution_count": null,
      "metadata": {
        "id": "bVqfe_XgWCaV",
        "colab": {
          "base_uri": "https://localhost:8080/"
        },
        "outputId": "bba4e975-1459-4741-87c4-f01480e9c318"
      },
      "outputs": [
        {
          "output_type": "stream",
          "name": "stdout",
          "text": [
            "['primary', 'secondary', 'tertiary', 'tertiary', 'secondary', 'tertiary', 'tertiary', 'secondary', 'tertiary', 'primary']\n"
          ]
        }
      ],
      "source": [
        "education = arquivo_banco.extrair_coluna(indice_coluna=3)\n",
        "print(education)"
      ]
    },
    {
      "cell_type": "markdown",
      "metadata": {
        "id": "cOZDKbe6URrb"
      },
      "source": [
        "### **2.2. Definição** "
      ]
    },
    {
      "cell_type": "markdown",
      "metadata": {
        "id": "-E0EkgFkeKtr"
      },
      "source": [
        "Vamos criar um módulo (arquivo) com o nome `arquivo_csv.py` com o código da classe `ArquivoCSV`."
      ]
    },
    {
      "cell_type": "markdown",
      "metadata": {
        "id": "H9C105KafVc-"
      },
      "source": [
        "### **2.3. Revisitando a motivação** "
      ]
    },
    {
      "cell_type": "markdown",
      "metadata": {
        "id": "h6T_8leberoO"
      },
      "source": [
        "Vamos importar a classe `ArquivoCSV` do módulo (arquivo) `arquivo_csv.py`."
      ]
    },
    {
      "cell_type": "code",
      "execution_count": null,
      "metadata": {
        "id": "6FMSdv7MeZ0s"
      },
      "outputs": [],
      "source": [
        "from arquivo_csv import ArquivoCSV\n",
        "\n",
        "arquivo_banco_modulo = ArquivoCSV(arquivo='./banco.csv')"
      ]
    },
    {
      "cell_type": "code",
      "execution_count": null,
      "metadata": {
        "id": "D-aOjf-3efTd",
        "colab": {
          "base_uri": "https://localhost:8080/"
        },
        "outputId": "e54ed765-0183-4739-80d3-f6a7a0f5b274"
      },
      "outputs": [
        {
          "output_type": "stream",
          "name": "stdout",
          "text": [
            "['primary', 'secondary', 'tertiary', 'tertiary', 'secondary', 'tertiary', 'tertiary', 'secondary', 'tertiary', 'primary']\n"
          ]
        }
      ],
      "source": [
        "education = arquivo_banco_modulo.extrair_coluna(indice_coluna=3)\n",
        "print(education)"
      ]
    },
    {
      "cell_type": "markdown",
      "metadata": {
        "id": "ELgoMRAAUSjv"
      },
      "source": [
        "## 3\\. Pacotes"
      ]
    },
    {
      "cell_type": "markdown",
      "metadata": {
        "id": "CuLkQY76USjw"
      },
      "source": [
        "### **3.1. Motivação** "
      ]
    },
    {
      "cell_type": "markdown",
      "metadata": {
        "id": "ZgxxT_jafqew"
      },
      "source": [
        " - Classe Arquivo Texto"
      ]
    },
    {
      "cell_type": "code",
      "execution_count": null,
      "metadata": {
        "id": "6ewvbQP9fn8G"
      },
      "outputs": [],
      "source": [
        "class ArquivoTXT(object):\n",
        "\n",
        "  def __init__(self, arquivo: str):\n",
        "    self.arquivo = arquivo\n",
        "    self.conteudo = self._extrair_conteudo()\n",
        "\n",
        "  def _extrair_conteudo(self):\n",
        "    conteudo = None\n",
        "    with open(file=self.arquivo, mode='r', encoding='utf8') as arquivo:\n",
        "      conteudo = arquivo.readlines()\n",
        "    return conteudo\n",
        "\n",
        "  def extrair_linha(self, numero_linha: int):\n",
        "    return self.conteudo[numero_linha-1]"
      ]
    },
    {
      "cell_type": "markdown",
      "metadata": {
        "id": "yZrvqrk8hMVw"
      },
      "source": [
        " - Arquivo noticia.txt"
      ]
    },
    {
      "cell_type": "code",
      "execution_count": null,
      "metadata": {
        "id": "3Z2JrlBQhCcv",
        "colab": {
          "base_uri": "https://localhost:8080/"
        },
        "outputId": "79561b5a-22b1-44e2-ac07-5a514b3e86bd"
      },
      "outputs": [
        {
          "output_type": "stream",
          "name": "stdout",
          "text": [
            "Writing noticia.txt\n"
          ]
        }
      ],
      "source": [
        "%%writefile noticia.txt\n",
        "Egito cobra quase US$ 1 bi para liberar navio que bloqueou Canal de Suez\n",
        "Segundo autoridades, valor será utilizado para recompor as perdas provocados pelo encalhamento da embarcação de quase 400 metros"
      ]
    },
    {
      "cell_type": "code",
      "execution_count": null,
      "metadata": {
        "id": "qDFlnC0zhUap"
      },
      "outputs": [],
      "source": [
        "arquivo_noticia = ArquivoTXT(arquivo='./noticia.txt')"
      ]
    },
    {
      "cell_type": "code",
      "execution_count": null,
      "metadata": {
        "id": "SJGiJvVBhci0",
        "colab": {
          "base_uri": "https://localhost:8080/"
        },
        "outputId": "ec06034a-153a-422d-ecc0-871068b071ff"
      },
      "outputs": [
        {
          "output_type": "stream",
          "name": "stdout",
          "text": [
            "Egito cobra quase US$ 1 bi para liberar navio que bloqueou Canal de Suez\n",
            "\n"
          ]
        }
      ],
      "source": [
        "titulo = arquivo_noticia.extrair_linha(numero_linha=1)\n",
        "print(titulo)"
      ]
    },
    {
      "cell_type": "markdown",
      "metadata": {
        "id": "JENLdmHkUSjx"
      },
      "source": [
        "### **3.2. Definição** "
      ]
    },
    {
      "cell_type": "markdown",
      "metadata": {
        "id": "hSseQ083h0pb"
      },
      "source": [
        "Vamos criar um módulo (arquivo) com o nome `arquivo_txt.py` com o código da classe `ArquivoTXT`."
      ]
    },
    {
      "cell_type": "markdown",
      "metadata": {
        "id": "h0Y-s4Hch59-"
      },
      "source": [
        "Vamos criar um pacote (pasta) com o nome arquivo e mover os módulos (arquivos) `arquivo_csv.py` e `arquivo_txt.py` para ela."
      ]
    },
    {
      "cell_type": "markdown",
      "metadata": {
        "id": "Nq0WCx8HUSjz"
      },
      "source": [
        "### **3.3. Revisitando a motivação** "
      ]
    },
    {
      "cell_type": "code",
      "execution_count": null,
      "metadata": {
        "id": "pKogPUlsif7C"
      },
      "outputs": [],
      "source": [
        "from arquivos.arquivo_csv import ArquivoCSV\n",
        "from arquivos.arquivo_txt import ArquivoTXT"
      ]
    },
    {
      "cell_type": "code",
      "execution_count": null,
      "metadata": {
        "id": "zzHFt3R7i6DX"
      },
      "outputs": [],
      "source": [
        "arquivo_banco_pacote = ArquivoCSV(arquivo='./banco.csv')\n",
        "arquivo_noticia_pacote = ArquivoTXT(arquivo='./noticia.txt')"
      ]
    },
    {
      "cell_type": "code",
      "execution_count": null,
      "metadata": {
        "id": "3azao8bvi6pn",
        "colab": {
          "base_uri": "https://localhost:8080/"
        },
        "outputId": "7164983b-6d85-4052-e7af-25af732f00fb"
      },
      "outputs": [
        {
          "output_type": "stream",
          "name": "stdout",
          "text": [
            "['primary', 'secondary', 'tertiary', 'tertiary', 'secondary', 'tertiary', 'tertiary', 'secondary', 'tertiary', 'primary']\n"
          ]
        }
      ],
      "source": [
        "education = arquivo_banco_modulo.extrair_coluna(indice_coluna=3)\n",
        "print(education)"
      ]
    },
    {
      "cell_type": "code",
      "execution_count": null,
      "metadata": {
        "id": "ubb0QMwEi8Vw",
        "colab": {
          "base_uri": "https://localhost:8080/"
        },
        "outputId": "e8448b37-7c01-48da-b977-88dace8c0772"
      },
      "outputs": [
        {
          "output_type": "stream",
          "name": "stdout",
          "text": [
            "Egito cobra quase US$ 1 bi para liberar navio que bloqueou Canal de Suez\n",
            "\n"
          ]
        }
      ],
      "source": [
        "titulo = arquivo_noticia.extrair_linha(numero_linha=1)\n",
        "print(titulo)"
      ]
    },
    {
      "cell_type": "markdown",
      "metadata": {
        "id": "f20ThY5WXmns"
      },
      "source": [
        "## 4\\. Baixando pacotes"
      ]
    },
    {
      "cell_type": "markdown",
      "metadata": {
        "id": "FlUhkpdwXmoJ"
      },
      "source": [
        "### **4.1. PyPI** "
      ]
    },
    {
      "cell_type": "markdown",
      "metadata": {
        "id": "Z2JHp_YShhGK"
      },
      "source": [
        "Repositório oficial de pacotes Python ([link](https://pypi.org/))."
      ]
    },
    {
      "cell_type": "markdown",
      "metadata": {
        "id": "mU0sJeoCXmoK"
      },
      "source": [
        "### **4.2. PIP** "
      ]
    },
    {
      "cell_type": "markdown",
      "metadata": {
        "id": "H7sLz5Ohh2sQ"
      },
      "source": [
        "Ferramenta oficial para instalar pacotes Python armazenados no PyPI."
      ]
    },
    {
      "cell_type": "markdown",
      "metadata": {
        "id": "lk15K9eYhF8-"
      },
      "source": [
        " - Instalando pacotes: `pip install <pacote>==<versão>`"
      ]
    },
    {
      "cell_type": "code",
      "execution_count": null,
      "metadata": {
        "id": "6PmfjrO3kwE0",
        "colab": {
          "base_uri": "https://localhost:8080/"
        },
        "outputId": "ceda3d1c-106b-479a-c404-8293f6b76132"
      },
      "outputs": [
        {
          "output_type": "stream",
          "name": "stdout",
          "text": [
            "Looking in indexes: https://pypi.org/simple, https://us-python.pkg.dev/colab-wheels/public/simple/\n",
            "Requirement already satisfied: requests==2.25.1 in /usr/local/lib/python3.8/dist-packages (2.25.1)\n",
            "Requirement already satisfied: idna<3,>=2.5 in /usr/local/lib/python3.8/dist-packages (from requests==2.25.1) (2.10)\n",
            "Requirement already satisfied: chardet<5,>=3.0.2 in /usr/local/lib/python3.8/dist-packages (from requests==2.25.1) (4.0.0)\n",
            "Requirement already satisfied: certifi>=2017.4.17 in /usr/local/lib/python3.8/dist-packages (from requests==2.25.1) (2022.12.7)\n",
            "Requirement already satisfied: urllib3<1.27,>=1.21.1 in /usr/local/lib/python3.8/dist-packages (from requests==2.25.1) (1.24.3)\n"
          ]
        }
      ],
      "source": [
        "!pip install requests==2.25.1"
      ]
    },
    {
      "cell_type": "markdown",
      "metadata": {
        "id": "odETseuCiKgA"
      },
      "source": [
        " - Listando pacotes: `pip freeze`"
      ]
    },
    {
      "cell_type": "code",
      "execution_count": null,
      "metadata": {
        "id": "uVcu2I7miO0e",
        "colab": {
          "base_uri": "https://localhost:8080/"
        },
        "outputId": "8f45573d-b540-4f1d-8ff1-788f671fad78"
      },
      "outputs": [
        {
          "output_type": "stream",
          "name": "stdout",
          "text": [
            "absl-py==1.3.0\n",
            "aeppl==0.0.33\n",
            "aesara==2.7.9\n",
            "aiohttp==3.8.3\n",
            "aiosignal==1.3.1\n",
            "alabaster==0.7.12\n",
            "albumentations==1.2.1\n",
            "altair==4.2.0\n",
            "appdirs==1.4.4\n",
            "arviz==0.12.1\n",
            "astor==0.8.1\n",
            "astropy==4.3.1\n",
            "astunparse==1.6.3\n",
            "async-timeout==4.0.2\n",
            "atari-py==0.2.9\n",
            "atomicwrites==1.4.1\n",
            "attrs==22.2.0\n",
            "audioread==3.0.0\n",
            "autograd==1.5\n",
            "Babel==2.11.0\n",
            "backcall==0.2.0\n",
            "beautifulsoup4==4.6.3\n",
            "bleach==5.0.1\n",
            "blis==0.7.9\n",
            "bokeh==2.3.3\n",
            "branca==0.6.0\n",
            "bs4==0.0.1\n",
            "CacheControl==0.12.11\n",
            "cachetools==5.2.0\n",
            "catalogue==2.0.8\n",
            "certifi==2022.12.7\n",
            "cffi==1.15.1\n",
            "cftime==1.6.2\n",
            "chardet==4.0.0\n",
            "charset-normalizer==2.1.1\n",
            "click==7.1.2\n",
            "clikit==0.6.2\n",
            "cloudpickle==2.2.0\n",
            "cmake==3.22.6\n",
            "cmdstanpy==1.0.8\n",
            "colorcet==3.0.1\n",
            "colorlover==0.3.0\n",
            "community==1.0.0b1\n",
            "confection==0.0.3\n",
            "cons==0.4.5\n",
            "contextlib2==0.5.5\n",
            "convertdate==2.4.0\n",
            "crashtest==0.3.1\n",
            "crcmod==1.7\n",
            "cufflinks==0.17.3\n",
            "cvxopt==1.3.0\n",
            "cvxpy==1.2.3\n",
            "cycler==0.11.0\n",
            "cymem==2.0.7\n",
            "Cython==0.29.32\n",
            "daft==0.0.4\n",
            "dask==2022.2.1\n",
            "datascience==0.17.5\n",
            "db-dtypes==1.0.5\n",
            "debugpy==1.0.0\n",
            "decorator==4.4.2\n",
            "defusedxml==0.7.1\n",
            "descartes==1.1.0\n",
            "dill==0.3.6\n",
            "distributed==2022.2.1\n",
            "dlib==19.24.0\n",
            "dm-tree==0.1.8\n",
            "dnspython==2.2.1\n",
            "docutils==0.16\n",
            "dopamine-rl==1.0.5\n",
            "earthengine-api==0.1.335\n",
            "easydict==1.10\n",
            "ecos==2.0.12\n",
            "editdistance==0.5.3\n",
            "en-core-web-sm @ https://github.com/explosion/spacy-models/releases/download/en_core_web_sm-3.4.1/en_core_web_sm-3.4.1-py3-none-any.whl\n",
            "entrypoints==0.4\n",
            "ephem==4.1.4\n",
            "et-xmlfile==1.1.0\n",
            "etils==0.9.0\n",
            "etuples==0.3.8\n",
            "fa2==0.3.5\n",
            "fastai==2.7.10\n",
            "fastcore==1.5.27\n",
            "fastdownload==0.0.7\n",
            "fastdtw==0.3.4\n",
            "fastjsonschema==2.16.2\n",
            "fastprogress==1.0.3\n",
            "fastrlock==0.8.1\n",
            "feather-format==0.4.1\n",
            "filelock==3.9.0\n",
            "firebase-admin==5.3.0\n",
            "fix-yahoo-finance==0.0.22\n",
            "Flask==1.1.4\n",
            "flatbuffers==1.12\n",
            "folium==0.12.1.post1\n",
            "frozenlist==1.3.3\n",
            "fsspec==2022.11.0\n",
            "future==0.16.0\n",
            "gast==0.4.0\n",
            "GDAL==2.2.3\n",
            "gdown==4.4.0\n",
            "gensim==3.6.0\n",
            "geographiclib==1.52\n",
            "geopy==1.17.0\n",
            "gin-config==0.5.0\n",
            "glob2==0.7\n",
            "google==2.0.3\n",
            "google-api-core==2.11.0\n",
            "google-api-python-client==2.70.0\n",
            "google-auth==2.15.0\n",
            "google-auth-httplib2==0.1.0\n",
            "google-auth-oauthlib==0.4.6\n",
            "google-cloud-bigquery==3.4.1\n",
            "google-cloud-bigquery-storage==2.17.0\n",
            "google-cloud-core==2.3.2\n",
            "google-cloud-datastore==2.11.1\n",
            "google-cloud-firestore==2.7.3\n",
            "google-cloud-language==2.6.1\n",
            "google-cloud-storage==2.7.0\n",
            "google-cloud-translate==3.8.4\n",
            "google-colab @ file:///colabtools/dist/google-colab-1.0.0.tar.gz\n",
            "google-crc32c==1.5.0\n",
            "google-pasta==0.2.0\n",
            "google-resumable-media==2.4.0\n",
            "googleapis-common-protos==1.57.1\n",
            "googledrivedownloader==0.4\n",
            "graphviz==0.10.1\n",
            "greenlet==2.0.1\n",
            "grpcio==1.51.1\n",
            "grpcio-status==1.48.2\n",
            "gspread==3.4.2\n",
            "gspread-dataframe==3.0.8\n",
            "gym==0.25.2\n",
            "gym-notices==0.0.8\n",
            "h5py==3.1.0\n",
            "HeapDict==1.0.1\n",
            "hijri-converter==2.2.4\n",
            "holidays==0.18\n",
            "holoviews==1.14.9\n",
            "html5lib==1.0.1\n",
            "httpimport==0.5.18\n",
            "httplib2==0.17.4\n",
            "httpstan==4.6.1\n",
            "humanize==0.5.1\n",
            "hyperopt==0.1.2\n",
            "idna==2.10\n",
            "imageio==2.9.0\n",
            "imagesize==1.4.1\n",
            "imbalanced-learn==0.8.1\n",
            "imblearn==0.0\n",
            "imgaug==0.4.0\n",
            "importlib-metadata==6.0.0\n",
            "importlib-resources==5.10.2\n",
            "imutils==0.5.4\n",
            "inflect==2.1.0\n",
            "intel-openmp==2023.0.0\n",
            "intervaltree==2.1.0\n",
            "ipykernel==5.3.4\n",
            "ipython==7.9.0\n",
            "ipython-genutils==0.2.0\n",
            "ipython-sql==0.3.9\n",
            "ipywidgets==7.7.1\n",
            "itsdangerous==1.1.0\n",
            "jax==0.3.25\n",
            "jaxlib @ https://storage.googleapis.com/jax-releases/cuda11/jaxlib-0.3.25+cuda11.cudnn805-cp38-cp38-manylinux2014_x86_64.whl\n",
            "jieba==0.42.1\n",
            "Jinja2==2.11.3\n",
            "joblib==1.2.0\n",
            "jpeg4py==0.1.4\n",
            "jsonschema==4.3.3\n",
            "jupyter-client==6.1.12\n",
            "jupyter-console==6.1.0\n",
            "jupyter_core==5.1.2\n",
            "jupyterlab-widgets==3.0.5\n",
            "kaggle==1.5.12\n",
            "kapre==0.3.7\n",
            "keras==2.9.0\n",
            "Keras-Preprocessing==1.1.2\n",
            "keras-vis==0.4.1\n",
            "kiwisolver==1.4.4\n",
            "korean-lunar-calendar==0.3.1\n",
            "langcodes==3.3.0\n",
            "libclang==14.0.6\n",
            "librosa==0.8.1\n",
            "lightgbm==2.2.3\n",
            "llvmlite==0.39.1\n",
            "lmdb==0.99\n",
            "locket==1.0.0\n",
            "logical-unification==0.4.5\n",
            "LunarCalendar==0.0.9\n",
            "lxml==4.9.2\n",
            "Markdown==3.4.1\n",
            "MarkupSafe==2.0.1\n",
            "marshmallow==3.19.0\n",
            "matplotlib==3.2.2\n",
            "matplotlib-venn==0.11.7\n",
            "miniKanren==1.0.3\n",
            "missingno==0.5.1\n",
            "mistune==0.8.4\n",
            "mizani==0.7.3\n",
            "mkl==2019.0\n",
            "mlxtend==0.14.0\n",
            "more-itertools==9.0.0\n",
            "moviepy==0.2.3.5\n",
            "mpmath==1.2.1\n",
            "msgpack==1.0.4\n",
            "multidict==6.0.4\n",
            "multipledispatch==0.6.0\n",
            "multitasking==0.0.11\n",
            "murmurhash==1.0.9\n",
            "music21==5.5.0\n",
            "natsort==5.5.0\n",
            "nbconvert==5.6.1\n",
            "nbformat==5.7.1\n",
            "netCDF4==1.6.2\n",
            "networkx==2.8.8\n",
            "nibabel==3.0.2\n",
            "nltk==3.7\n",
            "notebook==5.7.16\n",
            "numba==0.56.4\n",
            "numexpr==2.8.4\n",
            "numpy==1.21.6\n",
            "oauth2client==4.1.3\n",
            "oauthlib==3.2.2\n",
            "okgrade==0.4.3\n",
            "opencv-contrib-python==4.6.0.66\n",
            "opencv-python==4.6.0.66\n",
            "opencv-python-headless==4.7.0.68\n",
            "openpyxl==3.0.10\n",
            "opt-einsum==3.3.0\n",
            "osqp==0.6.2.post0\n",
            "packaging==21.3\n",
            "palettable==3.3.0\n",
            "pandas==1.3.5\n",
            "pandas-datareader==0.9.0\n",
            "pandas-gbq==0.17.9\n",
            "pandas-profiling==1.4.1\n",
            "pandocfilters==1.5.0\n",
            "panel==0.12.1\n",
            "param==1.12.3\n",
            "parso==0.8.3\n",
            "partd==1.3.0\n",
            "pastel==0.2.1\n",
            "pathlib==1.0.1\n",
            "pathy==0.10.1\n",
            "patsy==0.5.3\n",
            "pep517==0.13.0\n",
            "pexpect==4.8.0\n",
            "pickleshare==0.7.5\n",
            "Pillow==7.1.2\n",
            "pip-tools==6.6.2\n",
            "platformdirs==2.6.2\n",
            "plotly==5.5.0\n",
            "plotnine==0.8.0\n",
            "pluggy==0.7.1\n",
            "pooch==1.6.0\n",
            "portpicker==1.3.9\n",
            "prefetch-generator==1.0.3\n",
            "preshed==3.0.8\n",
            "prettytable==3.5.0\n",
            "progressbar2==3.38.0\n",
            "prometheus-client==0.15.0\n",
            "promise==2.3\n",
            "prompt-toolkit==2.0.10\n",
            "prophet==1.1.1\n",
            "proto-plus==1.22.1\n",
            "protobuf==3.19.6\n",
            "psutil==5.4.8\n",
            "psycopg2==2.9.5\n",
            "ptyprocess==0.7.0\n",
            "py==1.11.0\n",
            "pyarrow==9.0.0\n",
            "pyasn1==0.4.8\n",
            "pyasn1-modules==0.2.8\n",
            "pycocotools==2.0.6\n",
            "pycparser==2.21\n",
            "pyct==0.4.8\n",
            "pydantic==1.10.4\n",
            "pydata-google-auth==1.4.0\n",
            "pydot==1.3.0\n",
            "pydot-ng==2.0.0\n",
            "pydotplus==2.0.2\n",
            "PyDrive==1.3.1\n",
            "pyemd==0.5.1\n",
            "pyerfa==2.0.0.1\n",
            "Pygments==2.6.1\n",
            "PyGObject==3.26.1\n",
            "pylev==1.4.0\n",
            "pymc==4.1.4\n",
            "PyMeeus==0.5.12\n",
            "pymongo==4.3.3\n",
            "pymystem3==0.2.0\n",
            "PyOpenGL==3.1.6\n",
            "pyparsing==3.0.9\n",
            "pyrsistent==0.19.3\n",
            "pysimdjson==3.2.0\n",
            "pysndfile==1.3.8\n",
            "PySocks==1.7.1\n",
            "pystan==3.3.0\n",
            "pytest==3.6.4\n",
            "python-apt==0.0.0\n",
            "python-dateutil==2.8.2\n",
            "python-louvain==0.16\n",
            "python-slugify==7.0.0\n",
            "python-utils==3.4.5\n",
            "pytz==2022.7\n",
            "pyviz-comms==2.2.1\n",
            "PyWavelets==1.4.1\n",
            "PyYAML==6.0\n",
            "pyzmq==23.2.1\n",
            "qdldl==0.1.5.post2\n",
            "qudida==0.0.4\n",
            "regex==2022.6.2\n",
            "requests==2.25.1\n",
            "requests-oauthlib==1.3.1\n",
            "resampy==0.4.2\n",
            "rpy2==3.5.5\n",
            "rsa==4.9\n",
            "scikit-image==0.18.3\n",
            "scikit-learn==1.0.2\n",
            "scipy==1.7.3\n",
            "screen-resolution-extra==0.0.0\n",
            "scs==3.2.2\n",
            "seaborn==0.11.2\n",
            "Send2Trash==1.8.0\n",
            "setuptools-git==1.2\n",
            "shapely==2.0.0\n",
            "six==1.15.0\n",
            "sklearn-pandas==1.8.0\n",
            "smart-open==6.3.0\n",
            "snowballstemmer==2.2.0\n",
            "sortedcontainers==2.4.0\n",
            "soundfile==0.11.0\n",
            "spacy==3.4.4\n",
            "spacy-legacy==3.0.11\n",
            "spacy-loggers==1.0.4\n",
            "Sphinx==3.5.4\n",
            "sphinxcontrib-applehelp==1.0.2\n",
            "sphinxcontrib-devhelp==1.0.2\n",
            "sphinxcontrib-htmlhelp==2.0.0\n",
            "sphinxcontrib-jsmath==1.0.1\n",
            "sphinxcontrib-qthelp==1.0.3\n",
            "sphinxcontrib-serializinghtml==1.1.5\n",
            "SQLAlchemy==1.4.46\n",
            "sqlparse==0.4.3\n",
            "srsly==2.4.5\n",
            "statsmodels==0.12.2\n",
            "sympy==1.7.1\n",
            "tables==3.7.0\n",
            "tabulate==0.8.10\n",
            "tblib==1.7.0\n",
            "tenacity==8.1.0\n",
            "tensorboard==2.9.1\n",
            "tensorboard-data-server==0.6.1\n",
            "tensorboard-plugin-wit==1.8.1\n",
            "tensorflow==2.9.2\n",
            "tensorflow-datasets==4.8.1\n",
            "tensorflow-estimator==2.9.0\n",
            "tensorflow-gcs-config==2.9.1\n",
            "tensorflow-hub==0.12.0\n",
            "tensorflow-io-gcs-filesystem==0.29.0\n",
            "tensorflow-metadata==1.12.0\n",
            "tensorflow-probability==0.17.0\n",
            "termcolor==2.2.0\n",
            "terminado==0.13.3\n",
            "testpath==0.6.0\n",
            "text-unidecode==1.3\n",
            "textblob==0.15.3\n",
            "thinc==8.1.6\n",
            "threadpoolctl==3.1.0\n",
            "tifffile==2022.10.10\n",
            "toml==0.10.2\n",
            "tomli==2.0.1\n",
            "toolz==0.12.0\n",
            "torch @ https://download.pytorch.org/whl/cu116/torch-1.13.0%2Bcu116-cp38-cp38-linux_x86_64.whl\n",
            "torchaudio @ https://download.pytorch.org/whl/cu116/torchaudio-0.13.0%2Bcu116-cp38-cp38-linux_x86_64.whl\n",
            "torchsummary==1.5.1\n",
            "torchtext==0.14.0\n",
            "torchvision @ https://download.pytorch.org/whl/cu116/torchvision-0.14.0%2Bcu116-cp38-cp38-linux_x86_64.whl\n",
            "tornado==6.0.4\n",
            "tqdm==4.64.1\n",
            "traitlets==5.7.1\n",
            "tweepy==3.10.0\n",
            "typeguard==2.7.1\n",
            "typer==0.7.0\n",
            "typing_extensions==4.4.0\n",
            "tzlocal==1.5.1\n",
            "uritemplate==4.1.1\n",
            "urllib3==1.24.3\n",
            "vega-datasets==0.9.0\n",
            "wasabi==0.10.1\n",
            "wcwidth==0.2.5\n",
            "webargs==8.2.0\n",
            "webencodings==0.5.1\n",
            "Werkzeug==1.0.1\n",
            "widgetsnbextension==3.6.1\n",
            "wordcloud==1.8.2.2\n",
            "wrapt==1.14.1\n",
            "xarray==2022.12.0\n",
            "xarray-einstats==0.4.0\n",
            "xgboost==0.90\n",
            "xkit==0.0.0\n",
            "xlrd==1.2.0\n",
            "xlwt==1.3.0\n",
            "yarl==1.8.2\n",
            "yellowbrick==1.5\n",
            "zict==2.2.0\n",
            "zipp==3.11.0\n"
          ]
        }
      ],
      "source": [
        "!pip freeze"
      ]
    },
    {
      "cell_type": "markdown",
      "metadata": {
        "id": "euzwK_8VirCJ"
      },
      "source": [
        " - Removendo pacotes: `pip uninstall <pacote>`"
      ]
    },
    {
      "cell_type": "code",
      "execution_count": null,
      "metadata": {
        "id": "8C1lfHuji97L",
        "colab": {
          "base_uri": "https://localhost:8080/"
        },
        "outputId": "488f4602-0330-4584-b476-7e2929db0a80"
      },
      "outputs": [
        {
          "output_type": "stream",
          "name": "stdout",
          "text": [
            "Found existing installation: requests 2.25.1\n",
            "Uninstalling requests-2.25.1:\n",
            "  Would remove:\n",
            "    /usr/local/lib/python3.8/dist-packages/requests-2.25.1.dist-info/*\n",
            "    /usr/local/lib/python3.8/dist-packages/requests/*\n",
            "Proceed (Y/n)? n\n"
          ]
        }
      ],
      "source": [
        "!pip uninstall requests"
      ]
    },
    {
      "cell_type": "markdown",
      "metadata": {
        "id": "IA0eGZQ4k24m"
      },
      "source": [
        "### **4.3. Requests** "
      ]
    },
    {
      "cell_type": "markdown",
      "metadata": {
        "id": "aIS5dSmUlNDZ"
      },
      "source": [
        "Pacote para interação com o protocolo web HTTP ([link](https://pypi.org/project/requests/))."
      ]
    },
    {
      "cell_type": "markdown",
      "metadata": {
        "id": "tosUt4YUQ-Eq"
      },
      "source": [
        "**Exemplo:** Extrair a taxa CDI do site da B3."
      ]
    },
    {
      "cell_type": "code",
      "execution_count": null,
      "metadata": {
        "id": "FOA9GUgklXy_"
      },
      "outputs": [],
      "source": [
        "import requests as req\n",
        "\n",
        "response = req.get('https://www2.cetip.com.br/ConsultarTaxaDi/ConsultarTaxaDICetip.aspx')"
      ]
    },
    {
      "cell_type": "code",
      "execution_count": null,
      "metadata": {
        "id": "tgGpWa2ql3u2",
        "colab": {
          "base_uri": "https://localhost:8080/"
        },
        "outputId": "fbcc2e86-36b1-4528-b1b1-3ab36d8a20e2"
      },
      "outputs": [
        {
          "output_type": "stream",
          "name": "stdout",
          "text": [
            "status code: 200\n"
          ]
        }
      ],
      "source": [
        "print(f'status code: {response.status_code}')"
      ]
    },
    {
      "cell_type": "code",
      "execution_count": null,
      "metadata": {
        "id": "dnQwEQ8tmAXt",
        "colab": {
          "base_uri": "https://localhost:8080/"
        },
        "outputId": "d82d6885-5aea-445e-82e9-1c9e3d7a822c"
      },
      "outputs": [
        {
          "output_type": "stream",
          "name": "stdout",
          "text": [
            "{\"taxa\":\"13,65\",\"dataTaxa\":\"13/01/2023\",\"indice\":\"38.077,01\",\"dataIndice\":\"16/01/2023\"}\n"
          ]
        }
      ],
      "source": [
        "print(response.text)"
      ]
    },
    {
      "cell_type": "code",
      "execution_count": null,
      "metadata": {
        "id": "I64ho0ZaPhK1",
        "colab": {
          "base_uri": "https://localhost:8080/"
        },
        "outputId": "7f938525-d59b-4138-ba8f-835aa36b2573"
      },
      "outputs": [
        {
          "output_type": "stream",
          "name": "stdout",
          "text": [
            "{'taxa': '13,65', 'dataTaxa': '13/01/2023', 'indice': '38.077,01', 'dataIndice': '16/01/2023'}\n"
          ]
        }
      ],
      "source": [
        "import json\n",
        "\n",
        "data = json.loads(response.text)\n",
        "print(data)"
      ]
    },
    {
      "cell_type": "code",
      "execution_count": null,
      "metadata": {
        "id": "aBMgH8LBNjBg",
        "colab": {
          "base_uri": "https://localhost:8080/"
        },
        "outputId": "7bf8aaee-49d3-456f-e39f-9c4c4a4d2f02"
      },
      "outputs": [
        {
          "output_type": "stream",
          "name": "stdout",
          "text": [
            "13.65\n"
          ]
        }
      ],
      "source": [
        "cdi = None\n",
        "\n",
        "for key, value in data.items():\n",
        "  if key == 'taxa':\n",
        "    cdi = value.replace(',', '.')\n",
        "    cdi = float(cdi)\n",
        "\n",
        "print(cdi)"
      ]
    }
  ],
  "metadata": {
    "colab": {
      "provenance": []
    },
    "kernelspec": {
      "display_name": "Python 3 (ipykernel)",
      "language": "python",
      "name": "python3"
    },
    "language_info": {
      "codemirror_mode": {
        "name": "ipython",
        "version": 3
      },
      "file_extension": ".py",
      "mimetype": "text/x-python",
      "name": "python",
      "nbconvert_exporter": "python",
      "pygments_lexer": "ipython3",
      "version": "3.9.12"
    }
  },
  "nbformat": 4,
  "nbformat_minor": 0
}